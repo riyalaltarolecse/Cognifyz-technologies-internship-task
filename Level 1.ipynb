{
 "cells": [
  {
   "cell_type": "markdown",
   "id": "c15b04c8-035b-41c6-9c4e-e55aa2061e92",
   "metadata": {},
   "source": [
    "Task: 01 String Reversal Task\n"
   ]
  },
  {
   "cell_type": "code",
   "execution_count": 1,
   "id": "e0788719-c7e7-4e3f-90b6-af9a78d2b455",
   "metadata": {},
   "outputs": [
    {
     "name": "stdin",
     "output_type": "stream",
     "text": [
      "Enter a string:  Welcome to Cognifyz Technologies\n"
     ]
    },
    {
     "name": "stdout",
     "output_type": "stream",
     "text": [
      "Reversed string: seigolonhceT zyfingoC ot emocleW\n"
     ]
    }
   ],
   "source": [
    "def reverse_string(s):\n",
    "    return s[::-1]\n",
    "\n",
    "input_str = input(\"Enter a string: \")\n",
    "reversed_str = reverse_string(input_str)\n",
    "print(\"Reversed string:\", reversed_str)\n"
   ]
  },
  {
   "cell_type": "markdown",
   "id": "230e859e-6fb3-4223-9148-3418fcc0c078",
   "metadata": {},
   "source": [
    "Task: 02 Temperature Conversion"
   ]
  },
  {
   "cell_type": "code",
   "execution_count": 2,
   "id": "168e7bec-2353-4a65-9fd7-106d5ef64b6f",
   "metadata": {},
   "outputs": [
    {
     "name": "stdin",
     "output_type": "stream",
     "text": [
      "Enter the temperature (e.g., 100C or 212F):  50C\n"
     ]
    },
    {
     "name": "stdout",
     "output_type": "stream",
     "text": [
      "50.0°C is equal to 122.00°F\n"
     ]
    }
   ],
   "source": [
    "def celsius_to_fahrenheit(c):\n",
    "    return (c * 9/5) + 32\n",
    "\n",
    "def fahrenheit_to_celsius(f):\n",
    "    return (f - 32) * 5/9\n",
    "temp_input = input(\"Enter the temperature (e.g., 100C or 212F): \").strip().upper()\n",
    "\n",
    "if temp_input[-1] == 'C':\n",
    "    try:\n",
    "        celsius = float(temp_input[:-1])\n",
    "        fahrenheit = celsius_to_fahrenheit(celsius)\n",
    "        print(f\"{celsius}°C is equal to {fahrenheit:.2f}°F\")\n",
    "    except ValueError:\n",
    "        print(\"Invalid temperature value.\")\n",
    "elif temp_input[-1] == 'F':\n",
    "    try:\n",
    "        fahrenheit = float(temp_input[:-1])\n",
    "        celsius = fahrenheit_to_celsius(fahrenheit)\n",
    "        print(f\"{fahrenheit}°F is equal to {celsius:.2f}°C\")\n",
    "    except ValueError:\n",
    "        print(\"Invalid temperature value.\")\n",
    "else:\n",
    "    print(\"Please enter the temperature followed by 'C' or 'F' (e.g., 36C, 98F)\")\n"
   ]
  },
  {
   "cell_type": "markdown",
   "id": "5ec1e71b-fe73-4e28-9324-4a369bebb4bc",
   "metadata": {},
   "source": [
    "Task: 03 Email Validator"
   ]
  },
  {
   "cell_type": "code",
   "execution_count": 3,
   "id": "6c175417-108f-49c7-9f79-66ff0e6cd961",
   "metadata": {},
   "outputs": [
    {
     "name": "stdin",
     "output_type": "stream",
     "text": [
      "Enter an email address:  riyalaltarole783@gmail.com\n"
     ]
    },
    {
     "name": "stdout",
     "output_type": "stream",
     "text": [
      "Valid email address.\n"
     ]
    }
   ],
   "source": [
    "import re\n",
    "\n",
    "def is_valid_email(email):\n",
    "    pattern = r'^[^@]+@[^@]+\\.[^@]+$'\n",
    "    if not re.match(pattern, email):\n",
    "        return False\n",
    "\n",
    "    local_part, domain = email.split('@')\n",
    "    \n",
    "    if not local_part:\n",
    "        return False\n",
    "    if '.' not in domain or domain.startswith('.') or domain.endswith('.'):\n",
    "        return False\n",
    "    \n",
    "    return True\n",
    "email_input = input(\"Enter an email address: \")\n",
    "if is_valid_email(email_input):\n",
    "    print(\"Valid email address.\")\n",
    "else:\n",
    "    print(\"Invalid email address.\")\n"
   ]
  },
  {
   "cell_type": "markdown",
   "id": "ab5ab4d3-981d-420b-bbeb-6f441d73ac6c",
   "metadata": {},
   "source": [
    "Task: 04 Calculator Program"
   ]
  },
  {
   "cell_type": "code",
   "execution_count": 4,
   "id": "ef70dac5-1df1-428f-86a8-c89f69f2a5ca",
   "metadata": {},
   "outputs": [
    {
     "name": "stdin",
     "output_type": "stream",
     "text": [
      "Enter the first number:  2553\n",
      "Enter an operator (+, -, *, /, %):  %\n",
      "Enter the second number:  219\n"
     ]
    },
    {
     "name": "stdout",
     "output_type": "stream",
     "text": [
      "Result: 2553.0 % 219.0 = 144.0\n"
     ]
    }
   ],
   "source": [
    "def calculator():\n",
    "    try:\n",
    "        # Input two numbers\n",
    "        num1 = float(input(\"Enter the first number: \"))\n",
    "        operator = input(\"Enter an operator (+, -, *, /, %): \")\n",
    "        num2 = float(input(\"Enter the second number: \"))\n",
    "\n",
    "        # Perform the operation\n",
    "        if operator == '+':\n",
    "            result = num1 + num2\n",
    "        elif operator == '-':\n",
    "            result = num1 - num2\n",
    "        elif operator == '*':\n",
    "            result = num1 * num2\n",
    "        elif operator == '/':\n",
    "            if num2 == 0:\n",
    "                print(\"Error: Division by zero.\")\n",
    "                return\n",
    "            result = num1 / num2\n",
    "        elif operator == '%':\n",
    "            if num2 == 0:\n",
    "                print(\"Error: Modulo by zero.\")\n",
    "                return\n",
    "            result = num1 % num2\n",
    "        else:\n",
    "            print(\"Invalid operator.\")\n",
    "            return\n",
    "\n",
    "        print(f\"Result: {num1} {operator} {num2} = {result}\")\n",
    "\n",
    "    except ValueError:\n",
    "        print(\"Invalid input. Please enter numeric values.\")\n",
    "\n",
    "# Run the calculator\n",
    "calculator()\n"
   ]
  },
  {
   "cell_type": "markdown",
   "id": "5e866a04-a468-4050-86e5-d9755820a439",
   "metadata": {},
   "source": [
    "Task: 05 Palindrome Checker"
   ]
  },
  {
   "cell_type": "code",
   "execution_count": 5,
   "id": "b68f45ef-8543-4f65-a4d1-bfdac7a681c1",
   "metadata": {},
   "outputs": [
    {
     "name": "stdin",
     "output_type": "stream",
     "text": [
      "Enter a string:  welcome to cognifyz technologies\n"
     ]
    },
    {
     "name": "stdout",
     "output_type": "stream",
     "text": [
      "It's not a palindrome.\n"
     ]
    }
   ],
   "source": [
    "def is_palindrome(s):\n",
    "    s = s.replace(\" \", \"\").lower()\n",
    "    # Check if the string is equal to its reverse\n",
    "    return s == s[::-1]\n",
    "text = input(\"Enter a string: \")\n",
    "if is_palindrome(text):\n",
    "    print(\"It's a palindrome!\")\n",
    "else:\n",
    "    print(\"It's not a palindrome.\")\n"
   ]
  },
  {
   "cell_type": "code",
   "execution_count": 6,
   "id": "f78f5f02-bb88-415d-8485-6bfd92e92e39",
   "metadata": {},
   "outputs": [
    {
     "name": "stdin",
     "output_type": "stream",
     "text": [
      "Enter a string:  Racecar\n"
     ]
    },
    {
     "name": "stdout",
     "output_type": "stream",
     "text": [
      "It's a palindrome!\n"
     ]
    }
   ],
   "source": [
    "def is_palindrome(s):\n",
    "    s = s.replace(\" \", \"\").lower()\n",
    "    # Check if the string is equal to its reverse\n",
    "    return s == s[::-1]\n",
    "text = input(\"Enter a string: \")\n",
    "if is_palindrome(text):\n",
    "    print(\"It's a palindrome!\")\n",
    "else:\n",
    "    print(\"It's not a palindrome.\")"
   ]
  },
  {
   "cell_type": "code",
   "execution_count": null,
   "id": "85f3cbba-cb29-40f3-b02d-36eb173f2b43",
   "metadata": {},
   "outputs": [],
   "source": []
  }
 ],
 "metadata": {
  "kernelspec": {
   "display_name": "Python 3 (ipykernel)",
   "language": "python",
   "name": "python3"
  },
  "language_info": {
   "codemirror_mode": {
    "name": "ipython",
    "version": 3
   },
   "file_extension": ".py",
   "mimetype": "text/x-python",
   "name": "python",
   "nbconvert_exporter": "python",
   "pygments_lexer": "ipython3",
   "version": "3.10.11"
  }
 },
 "nbformat": 4,
 "nbformat_minor": 5
}
