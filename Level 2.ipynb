{
 "cells": [
  {
   "cell_type": "markdown",
   "id": "45eb39d3-4b2a-463a-a0de-b1593db229dd",
   "metadata": {},
   "source": [
    "Task: 01 Guessing Game"
   ]
  },
  {
   "cell_type": "code",
   "execution_count": 1,
   "id": "b55edef5-a343-486f-984e-c32fe5605562",
   "metadata": {},
   "outputs": [
    {
     "name": "stdout",
     "output_type": "stream",
     "text": [
      "Welcome to the Number Guessing Game!\n",
      "I'm thinking of a number between 1 and 100.\n"
     ]
    },
    {
     "name": "stdin",
     "output_type": "stream",
     "text": [
      "Enter your guess: 50\n"
     ]
    },
    {
     "name": "stdout",
     "output_type": "stream",
     "text": [
      "Too low! Try again.\n"
     ]
    },
    {
     "name": "stdin",
     "output_type": "stream",
     "text": [
      "Enter your guess: 75\n"
     ]
    },
    {
     "name": "stdout",
     "output_type": "stream",
     "text": [
      "Too high! Try again.\n"
     ]
    },
    {
     "name": "stdin",
     "output_type": "stream",
     "text": [
      "Enter your guess: 65\n"
     ]
    },
    {
     "name": "stdout",
     "output_type": "stream",
     "text": [
      "Congratulation! You guessed the number in 3 attempts.\n"
     ]
    }
   ],
   "source": [
    "import random\n",
    "def guessing_game():\n",
    "    number_to_guess = random.randint(1, 100)\n",
    "    guess = None\n",
    "    attempts = 0\n",
    "    print(\"Welcome to the Number Guessing Game!\")\n",
    "    print(\"I'm thinking of a number between 1 and 100.\")\n",
    "    while guess != number_to_guess:\n",
    "        try:\n",
    "            guess = int(input(\"Enter your guess:\"))\n",
    "            attempts += 1\n",
    "            if guess < number_to_guess:\n",
    "                print(\"Too low! Try again.\")\n",
    "            elif guess > number_to_guess:\n",
    "                print(\"Too high! Try again.\")\n",
    "            else:\n",
    "                print(f\"Congratulation! You guessed the number in {attempts} attempts.\")\n",
    "        except ValueError:\n",
    "            print(\" please enter a Valid number\")\n",
    "#run the guessing game\n",
    "guessing_game()"
   ]
  },
  {
   "cell_type": "markdown",
   "id": "0230a13d-bd24-43d2-85a7-c2710ff7c927",
   "metadata": {},
   "source": [
    "Task:02 Number Guesser"
   ]
  },
  {
   "cell_type": "code",
   "execution_count": null,
   "id": "1dfd0539-908a-4385-a331-88138d5bd4af",
   "metadata": {},
   "outputs": [],
   "source": [
    "import random\n",
    "def number_guesser():\n",
    "    print(\"Welcome to the Number Guesser Game!\")\n",
    "    try:\n",
    "        lower_bound = int(input(\"Enter the lower bound of the range: \"))\n",
    "        upper_bound = int(input(\"Enter the upper bound of the range: \"))\n",
    "        \n",
    "        if lower_bound >= upper_bound:\n",
    "            print(\"Invalid range. Lower bound must be less than upper bound.\")\n",
    "            return\n",
    "        secret_number = random.randint(lower_bound, upper_bound)\n",
    "        attempts = 0\n",
    "        guess = None\n",
    "\n",
    "        print(f\"Guess the number between {lower_bound} and {upper_bound}.\")\n",
    "        while guess != secret_number:\n",
    "            try:\n",
    "                guess = int(input(\"Your guess: \"))\n",
    "                attempts += 1\n",
    "\n",
    "                if guess < secret_number:\n",
    "                    print(\"Too low! Try again.\")\n",
    "                elif guess > secret_number:\n",
    "                    print(\"Too high! Try again.\")\n",
    "                else:\n",
    "                    print(f\"Correct! You guessed it in {attempts} attempt(s).\")\n",
    "            except ValueError:\n",
    "                print(\"Please enter a valid integer.\")\n",
    "    except ValueError:\n",
    "        print(\"Invalid input! Please enter integer values for the range.\")\n",
    "\n",
    "# Run the game\n",
    "number_guesser()\n"
   ]
  },
  {
   "cell_type": "markdown",
   "id": "8b8449a4-0dce-4b8b-be36-03a7d670fe9c",
   "metadata": {},
   "source": [
    "Task: 03 Password Strength Checker"
   ]
  },
  {
   "cell_type": "code",
   "execution_count": 2,
   "id": "bb77ea51-c51a-456e-8b18-df6f5f449781",
   "metadata": {},
   "outputs": [
    {
     "name": "stdin",
     "output_type": "stream",
     "text": [
      "Enter your password:  Cse@0901221116\n"
     ]
    },
    {
     "name": "stdout",
     "output_type": "stream",
     "text": [
      "Strong password 💪\n"
     ]
    }
   ],
   "source": [
    "import re\n",
    "\n",
    "def check_password_strength(password):\n",
    "    strength = 0\n",
    "    feedback = []\n",
    "    if len(password) >= 8:\n",
    "        strength += 1\n",
    "    else:\n",
    "        feedback.append(\"Password should be at least 8 characters long.\")\n",
    "\n",
    "    if re.search(r\"[a-z]\", password):\n",
    "        strength += 1\n",
    "    else:\n",
    "        feedback.append(\"Include at least one lowercase letter.\")\n",
    "\n",
    "    \n",
    "    if re.search(r\"[A-Z]\", password):\n",
    "        strength += 1\n",
    "    else:\n",
    "        feedback.append(\"Include at least one uppercase letter.\")\n",
    "    if re.search(r\"\\d\", password):\n",
    "        strength += 1\n",
    "    else:\n",
    "        feedback.append(\"Include at least one digit.\")\n",
    "\n",
    "    # Check for special character\n",
    "    if re.search(r\"[!@#$%^&*()_\\-+=\\[\\]{};':\\\"\\\\|,.<>/?]\", password):\n",
    "        strength += 1\n",
    "    else:\n",
    "        feedback.append(\"Include at least one special character.\")\n",
    "    if strength == 5:\n",
    "        return \"Strong password 💪\"\n",
    "    elif strength >= 3:\n",
    "        return \"Moderate password. Suggestions:\\n- \" + \"\\n- \".join(feedback)\n",
    "    else:\n",
    "        return \"Weak password. Please improve it:\\n- \" + \"\\n- \".join(feedback)\n",
    "\n",
    "\n",
    "# Example usage\n",
    "user_password = input(\"Enter your password: \")\n",
    "print(check_password_strength(user_password))"
   ]
  },
  {
   "cell_type": "code",
   "execution_count": 1,
   "id": "efe87b9f-4429-42fd-bfeb-e5bd917c317a",
   "metadata": {},
   "outputs": [
    {
     "name": "stdin",
     "output_type": "stream",
     "text": [
      "Enter your password:  Raj@123\n"
     ]
    },
    {
     "name": "stdout",
     "output_type": "stream",
     "text": [
      "Moderate password. Suggestions:\n",
      "- Password should be at least 8 characters long.\n"
     ]
    }
   ],
   "source": [
    "import re\n",
    "def check_password_strength(password):\n",
    "    strength = 0\n",
    "    feedback = []\n",
    "# check the minimum length\n",
    "    if len(password) >=8:\n",
    "        strength += 1\n",
    "    else:\n",
    "        feedback.append(\"Password should be at least 8 characters long.\")\n",
    "# check the lower case\n",
    "    if re.search(r\"[a-z]\", password):\n",
    "        strength += 1\n",
    "    else:\n",
    "        feedback.append(\"Include at least one lowercase letter.\")\n",
    "# check the upper case\n",
    "    if re.search(r\"[A-Z]\", password):\n",
    "        strength += 1\n",
    "    else:\n",
    "        feedback.append(\"Include at least one uppercase letter.\")\n",
    "    if re.search(r\"\\d\", password):\n",
    "        strength += 1\n",
    "    else:\n",
    "        feedback.append(\"Include at least one digit.\")\n",
    "    if re.search(r\"[!@#$%^&*()_\\-+=\\[\\]{};':\\\"\\\\|,.<>/?]\", password):\n",
    "        strength += 1\n",
    "    else:\n",
    "        feedback.append(\"Include at least one spacial character.\")\n",
    "        \n",
    "    if strength == 5:\n",
    "        return \"Strong password 💪\"\n",
    "    elif strength >= 3:\n",
    "        return \"Moderate password. Suggestions:\\n- \" + \"\\n- \".join(feedback)\n",
    "    else:\n",
    "        return \"Weak password. Please improve it:\\n- \" + \"\\n- \".join(feedback)\n",
    "\n",
    "\n",
    "user_password = input(\"Enter your password: \")\n",
    "print(check_password_strength(user_password)) \n",
    "    \n",
    "    "
   ]
  },
  {
   "cell_type": "markdown",
   "id": "63f33e6b-e821-4102-8d38-2a008acbb85a",
   "metadata": {},
   "source": [
    "Task: 04 Fibonacci Sequence"
   ]
  },
  {
   "cell_type": "code",
   "execution_count": 12,
   "id": "f278d70e-b397-483c-a6c7-acf98b661729",
   "metadata": {},
   "outputs": [
    {
     "name": "stdin",
     "output_type": "stream",
     "text": [
      "Enter the number of terms:  4\n"
     ]
    },
    {
     "name": "stdout",
     "output_type": "stream",
     "text": [
      "Fibonacci sequence up to 4 terms: [0, 1, 1, 2]\n"
     ]
    }
   ],
   "source": [
    "def generate_fibonacci(n):\n",
    "    if n <= 0:\n",
    "        print(\"Please enter a positive integer.\")\n",
    "        return\n",
    "    elif n == 1:\n",
    "        print(\"Fibonacci sequence up to 1 term: [0]\")\n",
    "        return [0]\n",
    "    elif n == 2:\n",
    "        print(\"Fibonacci sequence up to 2 terms: [0, 1]\")\n",
    "        return [0, 1]\n",
    "    \n",
    "    fibonacci_sequence = [0, 1]\n",
    "    for i in range(2, n):\n",
    "        next_term = fibonacci_sequence[-1] + fibonacci_sequence[-2]\n",
    "        fibonacci_sequence.append(next_term)\n",
    "    \n",
    "    print(f\"Fibonacci sequence up to {n} terms: {fibonacci_sequence}\")\n",
    "    return fibonacci_sequence\n",
    "\n",
    "try:\n",
    "    terms = int(input(\"Enter the number of terms: \"))\n",
    "    generate_fibonacci(terms)\n",
    "except ValueError:\n",
    "    print(\"Invalid input! Please enter an integer.\")"
   ]
  },
  {
   "cell_type": "markdown",
   "id": "f9f27070-0218-423b-a83b-aa4202ac4350",
   "metadata": {},
   "source": [
    "Task: 05 File Mnipulation"
   ]
  },
  {
   "cell_type": "code",
   "execution_count": 14,
   "id": "908ec8e6-0147-4791-a261-5ec4af20cfc3",
   "metadata": {},
   "outputs": [
    {
     "name": "stdout",
     "output_type": "stream",
     "text": [
      "The specified file was not found.\n"
     ]
    }
   ],
   "source": [
    "def count_words_in_file(filename):\n",
    "    word_count = {}\n",
    "\n",
    "    try:\n",
    "        with open(filename, 'r') as file:\n",
    "            for line in file:\n",
    "                words = line.lower().split()\n",
    "                for word in words:\n",
    "                    word = ''.join(char for char in word if char.isalnum())\n",
    "                    if word:\n",
    "                        word_count[word] = word_count.get(word, 0) + 1\n",
    "\n",
    "        for word in sorted(word_count):\n",
    "            print(f\"{word}: {word_count[word]}\")\n",
    "\n",
    "    except FileNotFoundError:\n",
    "        print(\"The specified file was not found.\")\n",
    "    except Exception as e:\n",
    "        print(f\"An error occurred: {e}\")\n",
    "\n",
    "# Example usage\n",
    "filename = \"sample.txt\"  # Replace with your file name\n",
    "count_words_in_file(filename)\n"
   ]
  },
  {
   "cell_type": "code",
   "execution_count": 1,
   "id": "0c707d42-2bd3-4452-b9f1-3bd486fef5c4",
   "metadata": {},
   "outputs": [
    {
     "name": "stdout",
     "output_type": "stream",
     "text": [
      "Error: File 'sample.txt' not found.\n"
     ]
    }
   ],
   "source": []
  },
  {
   "cell_type": "code",
   "execution_count": null,
   "id": "b1d154d8-86f3-414b-a13f-e57d35e1b356",
   "metadata": {},
   "outputs": [],
   "source": []
  }
 ],
 "metadata": {
  "kernelspec": {
   "display_name": "Python 3 (ipykernel)",
   "language": "python",
   "name": "python3"
  },
  "language_info": {
   "codemirror_mode": {
    "name": "ipython",
    "version": 3
   },
   "file_extension": ".py",
   "mimetype": "text/x-python",
   "name": "python",
   "nbconvert_exporter": "python",
   "pygments_lexer": "ipython3",
   "version": "3.10.11"
  }
 },
 "nbformat": 4,
 "nbformat_minor": 5
}
